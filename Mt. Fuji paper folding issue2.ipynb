{
 "cells": [
  {
   "cell_type": "markdown",
   "id": "1b1966bb-d593-4568-a968-0cb4ca4ca4d7",
   "metadata": {},
   "source": [
    "problem 1"
   ]
  },
  {
   "cell_type": "code",
   "execution_count": 46,
   "id": "81eee387-92c5-4b92-95d4-ec05e045e60b",
   "metadata": {},
   "outputs": [
    {
     "name": "stdout",
     "output_type": "stream",
     "text": [
      "exceeded mt fuji on the 27th fold\n"
     ]
    }
   ],
   "source": [
    "THICKNESS = 0.00008\n",
    "MT_FUJI = 3776\n",
    "fold_times = 1\n",
    "current_thickness = 0\n",
    "while (current_thickness < 3776):\n",
    "    current_thickness = THICKNESS*(2**fold_times)\n",
    "    fold_times+=1\n",
    "print(\"exceeded mt fuji on the {}th fold\".format(fold_times))"
   ]
  },
  {
   "cell_type": "markdown",
   "id": "471af5f9-4aa0-4fc6-a987-fd9823ae20a0",
   "metadata": {},
   "source": [
    "problem 2"
   ]
  },
  {
   "cell_type": "code",
   "execution_count": 47,
   "id": "709454a8-d376-4ed0-9a6f-f524274e3437",
   "metadata": {},
   "outputs": [
    {
     "name": "stdout",
     "output_type": "stream",
     "text": [
      "reached the closest star on the 64th fold\n"
     ]
    }
   ],
   "source": [
    "Proxima_Centauri = 4.4\n",
    "light_year = 9.5\n",
    "DISTANCE = (9.5 * 4.4)*10000000000\n",
    "def calculate_folds_from_distance(distance):\n",
    "  problem2_fold_times = 1\n",
    "  problem2_current_thickness = 0\n",
    "  while ((problem2_current_thickness//1000) <distance):\n",
    "   problem2_current_thickness = THICKNESS*(2**problem2_fold_times)\n",
    "   problem2_fold_times+=1\n",
    "  return problem2_fold_times\n",
    "print(\"reached the closest star on the {}th fold\".format(calculate_folds_from_distance(DISTANCE)))    "
   ]
  },
  {
   "cell_type": "markdown",
   "id": "7aecdf6c-3837-47f6-959b-c7e6fc4f168f",
   "metadata": {},
   "source": [
    "problem 3"
   ]
  },
  {
   "cell_type": "code",
   "execution_count": 48,
   "id": "63c34eab-afa3-42e1-a8ea-1b34138918b9",
   "metadata": {},
   "outputs": [
    {
     "name": "stdout",
     "output_type": "stream",
     "text": [
      "the length of paper needed to be folded to reach the mood is 26901501774159.766m\n",
      "the length of paper needed to be folded to reach the mt fuji is 142936511.60984m\n",
      "the length of paper needed to be folded to reach the non-sun star is 3.2466269569728816e+16m\n"
     ]
    }
   ],
   "source": [
    "def calculate_length_of_paper_from_folds (folds):\n",
    " PROBLEM3_THICKNESS = 0.00008\n",
    " length = (PROBLEM3_THICKNESS/6)*((2*folds)+4)*(2**folds-1)\n",
    " return length\n",
    "\n",
    "DISTANCE_TO_THE_MOON = 384400*1000\n",
    "print(\"the length of paper needed to be folded to reach the mood is {}m\".format(calculate_length_of_paper_from_folds(calculate_folds_from_distance(DISTANCE_TO_THE_MOON))))\n",
    "print(\"the length of paper needed to be folded to reach the mt fuji is {}m\".format(calculate_length_of_paper_from_folds(calculate_folds_from_distance(MT_FUJI))))\n",
    "print(\"the length of paper needed to be folded to reach the non-sun star is {}m\".format(calculate_length_of_paper_from_folds(calculate_folds_from_distance(DISTANCE))))"
   ]
  },
  {
   "cell_type": "code",
   "execution_count": null,
   "id": "09d7e505-17de-44af-b243-8e8ccc40da94",
   "metadata": {},
   "outputs": [],
   "source": []
  },
  {
   "cell_type": "code",
   "execution_count": null,
   "id": "2d0195aa-56cb-4bb7-a6f7-6acc290a2fb7",
   "metadata": {},
   "outputs": [],
   "source": []
  }
 ],
 "metadata": {
  "kernelspec": {
   "display_name": "Python 3 (ipykernel)",
   "language": "python",
   "name": "python3"
  },
  "language_info": {
   "codemirror_mode": {
    "name": "ipython",
    "version": 3
   },
   "file_extension": ".py",
   "mimetype": "text/x-python",
   "name": "python",
   "nbconvert_exporter": "python",
   "pygments_lexer": "ipython3",
   "version": "3.8.10"
  }
 },
 "nbformat": 4,
 "nbformat_minor": 5
}
